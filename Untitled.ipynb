{
 "cells": [
  {
   "cell_type": "code",
   "execution_count": 57,
   "metadata": {},
   "outputs": [
    {
     "name": "stderr",
     "output_type": "stream",
     "text": [
      "/Library/Frameworks/Python.framework/Versions/3.6/lib/python3.6/site-packages/bs4/__init__.py:181: UserWarning: No parser was explicitly specified, so I'm using the best available HTML parser for this system (\"lxml\"). This usually isn't a problem, but if you run this code on another system, or in a different virtual environment, it may use a different parser and behave differently.\n",
      "\n",
      "The code that caused this warning is on line 193 of the file /Library/Frameworks/Python.framework/Versions/3.6/lib/python3.6/runpy.py. To get rid of this warning, change code that looks like this:\n",
      "\n",
      " BeautifulSoup(YOUR_MARKUP})\n",
      "\n",
      "to this:\n",
      "\n",
      " BeautifulSoup(YOUR_MARKUP, \"lxml\")\n",
      "\n",
      "  markup_type=markup_type))\n"
     ]
    },
    {
     "name": "stdout",
     "output_type": "stream",
     "text": [
      "{\"data\":[{\"title\":\"AMD 與 Samsung 達成圖形技術戰略合作\",\"content\":\"剛剛在 Computex 上搏得喝彩的 AMD，現在又為自己找到了一個新的戰略合作夥伴 — Samsung。就在剛才，南韓巨頭正式宣佈與 AMD 達成多年戰略合作，雙方將在超低功耗、圖像處理方案等領域一同謀求更大的發展，同時 AMD 會將 Radeon 顯示卡的相關技術授權給 Samsung 的行動產品使用（所以有望出現在 Exynos 晶片上囉？）。目前在電腦、主機、雲端平台上都能找到 AMD 的 Radeon 技術，跟 Samsung 的合作會讓他們有機會重新站上手機戰場。早在 2009 年時，AMD 將自己的 Imageon 圖形業務出售給了高通，這筆交易可以說為日後的 Adreno 發展奠定了基礎。而 AMD 現有的 Radeon 方案是為 15W 到 65W 功率間的電腦產品而設，要想改造成手機能用，很重要的一點是必須在保持足夠高效能的情況下，把功率降低到 5W 以下。「跟 Samsung 的戰略合作會讓 AMD 的高效能 Radeon 顯示技術進入行動市場，以此來大大擴大 Radeon 的用戶群和開發生態圈。」AMD CEO 蘇姿豐女士這麼說道。如果跟 Samsung 聯手順利的話，或許我們未來也會在更多地方看到 AMD 技術的蹤影呢。AMD\"},{\"title\":\"Tesla 推出 Model 3 用的車載 Qi 無線充電板\",\"content\":\"Tesla 為手機準備的車載配件，今天又新增加了一款產品。這次他們給 Model 3 使用者帶來了一款可嵌入螢幕下方位置的 Qi 無線充電板，讓你可以在車內為最多兩款手機同時進行無線充電。按照官方說法，這款售價高達 US$125（約 HK$980 / NT$3,950）的配件，擁有防滑（用的是矽膠表面）和易於安裝的優點（塞入合適位置，插上 USB 電線再裝上底部托架就行）。要說不足，當然就是比類似第三方配件高出一大截的價格了。當然，原廠配件在適配性上多少還是會更好一點，這也解釋了為什麼這款充電板上架後沒多久就銷售一空（目前似乎補了點貨），而且還要兩到三週才能發貨了。Tesla\"},{\"title\":\"Ultimate Ears 的 Wonderboom 2 提升音質並加長電力\",\"content\":\"大約兩年前 UE 為我們帶來了可愛的小桶子喇叭 Wonderboom，做為家族中的入門級藍牙喇叭。如今在升級了 Boom 3 與 Megaboom 3 之後，UE 終於回過頭來，將 Wonderboom 也升級了一番，推出新品 Wonderboom 2。Wonderboom 2 大致依然保持著一代圓滾滾的外觀，但將機身的 IP 等級由 IPX7 增加到了 IP67，也就是說在原有的 1 公尺內防水 30 分鐘之外，還再增加了防塵等級。此外，Wonderboom 2 稍微加大了掛環、電力由 10 小時增加到了 13 個，並且加入了「戶外模式」，提供稍做調整的音頻響應，讓它在室外有更好的音效。Wonderboom 2 將於 6 月 25 日在美國上市，定價 US$99.99。初步將推出紅、灰、黑、藍四色，但依 UE 的習性，應該不久後就會有各種花俏的花色出現了吧。\"},{\"title\":\"Suunto D5 潛水電腦錶是走進潮流的好嘗試\",\"content\":\"夏季正式到來，又是潛水的新一個季度。在準備潛水計劃的時候，有沒有也在檢查儀器是否正常運作，有沒有換新的需要呢？小編最近有被朋友問到買新潛水電腦錶的建議，原因大概是廠商們也藉此時機把新品上架。小編有在試用的其中一款是 Suunto 最新作，腕錶型潛水電腦 D5。它可是在去年首佈亮相之後，就引起潛水愛好者的不少討論，怎麼說，這也算是 Suunto 這傳統大廠要開始迎合新世代使用者而設計的次世代產品。先從外型說起，D5 可說是另一款同門產品 EON Core 的腕錶版，因為它引入了彩色大螢幕和三鍵式操控，而且還有快拆式錶帶，讓潛水員可以自由配搭多達 48 款不同設計的錶帶。前代的 D4i 因為價錢相宜，功能齊全，可謂是潛水新手必備而相當常見，而 D5 則是繼承所有功能之餘，還為了迎合智慧型手機年代而加入了透過藍牙與專屬 app 同步記錄的能力。 翻看潛水記錄大概是潛水員每一天，甚至是每一潛後的例行動作，可以得知剛剛的旅程中做了（或做錯）什麼，進而為下一潛作調整。在 D5 上，可以按下中間的按鈕切換檢視模式，其全彩畫素記憶（MIP）螢幕可以清晰地同時顯示潛水時間、深度、升降速度、禁止飛行時間和水面時間等，螢幕下方更有位置可以顯示其他資訊，像是電量和方向。相對其他舊款腕錶型機種，D5 在顯示資訊上有著相當明顯優勢。 但如果想更進一步，就可以拿出智慧型手機，並在 Suunto 的通用智慧錶專屬 app 來同步數據，完成後就可以馬上分享剛剛的潛水日誌到不同社交平台。這功能大概是潛水器材廠商都要接觸新領域，把過去封閉的測量儀器與聯網裝置接通，做到即時的分享。 然而這部分 Suunto 還需要加把勁的，就是目前手機 app 能做的僅是單方面獲取 D5 的數據，未能藉此調整其他設定。打比方說外潛的時候，不是隨時都能拿出電腦來開啟 DM5 這功能較齊的應用軟體來設定，那就只好拿著手錶在按按按按了。 不過 D5 有一個非常加分的特質，就是用上磁吸式 USB 充電線來充電和與電腦同步。這設計可讓 D5 不需要定期去花錢換電，即使快將沒電也可以隨意找個 USB 充電器來充電。另外，這磁吸頭也相當牢固，在吸附在 D5 的接點後，都不太可能會意外被拉開，確保充電和數據傳輸的穩定性。 直接與小編自己的 D4i 來比較，D5 在外型、操縱性都有大幅改進。另外 Suunto 更表示他們搭載了新一代 Suunto Fused RGBM 2 演算法，稍微放寬了人體排出氮氣的時間限制，讓潛水員可以在安全的時間內，更快可以進行另一次的下潛。 總的來說，雖然 D5 的定價有比 D4i 提高了一點，到接近五千港幣（約兩萬台幣），但因為功能、使用體驗都是有感的提升，所以預算容許的話，原本在考慮舊型號的朋友不妨直接選擇 D5。當然，市面上還有其他同樣有著與智慧型手機連動的潛水電腦錶，功能、取向都會各有不同，有興趣的朋友可以親身去體驗和感受，再作決定。\"}]}\n"
     ]
    }
   ],
   "source": [
    "import requests\n",
    "from bs4 import BeautifulSoup\n",
    "\n",
    "headers = {\n",
    "    'user-agent': 'Mozilla/5.0 (Windows NT 10.0; Win64; x64) AppleWebKit/537.36 (KHTML, like Gecko) Chrome/68.0.3440.106 Safari/537.36'\n",
    "}\n",
    "req = requests.request('GET', 'https://tw.news.yahoo.com/tech-development',headers=headers)\n",
    "soup = BeautifulSoup(req.text)\n",
    "titleDom = soup.find_all('h3', class_='Mb(5px)')\n",
    "strJson = '{\"data\":['\n",
    "count = 0\n",
    "for title in titleDom:\n",
    "    if (count == 4):\n",
    "        break\n",
    "    else:\n",
    "        count += 1\n",
    "    strJson += '{\"title\":\"' + title.text + '\",'\n",
    "    contentReq = requests.request('GET', 'https://tw.news.yahoo.com/' + title.find('a')['href'],headers=headers)\n",
    "    contentSoup = BeautifulSoup(contentReq.text)\n",
    "    contentDom = contentSoup.find_all('p', class_='canvas-atom canvas-text Mb(1.0em) Mb(0)--sm Mt(0.8em)--sm')\n",
    "    strJson += '\"content\":\"'\n",
    "    for content in contentDom:\n",
    "        strJson += content.text\n",
    "    strJson += '\"},'\n",
    "strJson = strJson[:-1] + ']}'\n",
    "\n",
    "print(strJson)\n"
   ]
  },
  {
   "cell_type": "code",
   "execution_count": null,
   "metadata": {},
   "outputs": [],
   "source": []
  },
  {
   "cell_type": "code",
   "execution_count": null,
   "metadata": {},
   "outputs": [],
   "source": []
  }
 ],
 "metadata": {
  "kernelspec": {
   "display_name": "Python 3",
   "language": "python",
   "name": "python3"
  },
  "language_info": {
   "codemirror_mode": {
    "name": "ipython",
    "version": 3
   },
   "file_extension": ".py",
   "mimetype": "text/x-python",
   "name": "python",
   "nbconvert_exporter": "python",
   "pygments_lexer": "ipython3",
   "version": "3.6.5"
  }
 },
 "nbformat": 4,
 "nbformat_minor": 2
}
