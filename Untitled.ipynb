{
 "cells": [
  {
   "cell_type": "code",
   "execution_count": 53,
   "metadata": {},
   "outputs": [
    {
     "name": "stderr",
     "output_type": "stream",
     "text": [
      "/Library/Frameworks/Python.framework/Versions/3.6/lib/python3.6/site-packages/bs4/__init__.py:181: UserWarning: No parser was explicitly specified, so I'm using the best available HTML parser for this system (\"lxml\"). This usually isn't a problem, but if you run this code on another system, or in a different virtual environment, it may use a different parser and behave differently.\n",
      "\n",
      "The code that caused this warning is on line 193 of the file /Library/Frameworks/Python.framework/Versions/3.6/lib/python3.6/runpy.py. To get rid of this warning, change code that looks like this:\n",
      "\n",
      " BeautifulSoup(YOUR_MARKUP})\n",
      "\n",
      "to this:\n",
      "\n",
      " BeautifulSoup(YOUR_MARKUP, \"lxml\")\n",
      "\n",
      "  markup_type=markup_type))\n"
     ]
    },
    {
     "name": "stdout",
     "output_type": "stream",
     "text": [
      "{\"data\":[{\"title\":\"AMD 與 Samsung 達成圖形技術戰略合作\",\"content\":\"剛剛在 Computex 上搏得喝彩的 AMD，現在又為自己找到了一個新的戰略合作夥伴 — Samsung。就在剛才，南韓巨頭正式宣佈與 AMD 達成多年戰略合作，雙方將在超低功耗、圖像處理方案等領域一同謀求更大的發展，同時 AMD 會將 Radeon 顯示卡的相關技術授權給 Samsung 的行動產品使用（所以有望出現在 Exynos 晶片上囉？）。目前在電腦、主機、雲端平台上都能找到 AMD 的 Radeon 技術，跟 Samsung 的合作會讓他們有機會重新站上手機戰場。早在 2009 年時，AMD 將自己的 Imageon 圖形業務出售給了高通，這筆交易可以說為日後的 Adreno 發展奠定了基礎。而 AMD 現有的 Radeon 方案是為 15W 到 65W 功率間的電腦產品而設，要想改造成手機能用，很重要的一點是必須在保持足夠高效能的情況下，把功率降低到 5W 以下。「跟 Samsung 的戰略合作會讓 AMD 的高效能 Radeon 顯示技術進入行動市場，以此來大大擴大 Radeon 的用戶群和開發生態圈。」AMD CEO 蘇姿豐女士這麼說道。如果跟 Samsung 聯手順利的話，或許我們未來也會在更多地方看到 AMD 技術的蹤影呢。AMD\"},{\"title\":\"Tesla 推出 Model 3 用的車載 Qi 無線充電板\",\"content\":\"Tesla 為手機準備的車載配件，今天又新增加了一款產品。這次他們給 Model 3 使用者帶來了一款可嵌入螢幕下方位置的 Qi 無線充電板，讓你可以在車內為最多兩款手機同時進行無線充電。按照官方說法，這款售價高達 US$125（約 HK$980 / NT$3,950）的配件，擁有防滑（用的是矽膠表面）和易於安裝的優點（塞入合適位置，插上 USB 電線再裝上底部托架就行）。要說不足，當然就是比類似第三方配件高出一大截的價格了。當然，原廠配件在適配性上多少還是會更好一點，這也解釋了為什麼這款充電板上架後沒多久就銷售一空（目前似乎補了點貨），而且還要兩到三週才能發貨了。Tesla\"},{\"title\":\"Ultimate Ears 的 Wonderboom 2 提升音質並加長電力\",\"content\":\"大約兩年前 UE 為我們帶來了可愛的小桶子喇叭 Wonderboom，做為家族中的入門級藍牙喇叭。如今在升級了 Boom 3 與 Megaboom 3 之後，UE 終於回過頭來，將 Wonderboom 也升級了一番，推出新品 Wonderboom 2。Wonderboom 2 大致依然保持著一代圓滾滾的外觀，但將機身的 IP 等級由 IPX7 增加到了 IP67，也就是說在原有的 1 公尺內防水 30 分鐘之外，還再增加了防塵等級。此外，Wonderboom 2 稍微加大了掛環、電力由 10 小時增加到了 13 個，並且加入了「戶外模式」，提供稍做調整的音頻響應，讓它在室外有更好的音效。Wonderboom 2 將於 6 月 25 日在美國上市，定價 US$99.99。初步將推出紅、灰、黑、藍四色，但依 UE 的習性，應該不久後就會有各種花俏的花色出現了吧。\"},{\"title\":\"Suunto D5 潛水電腦錶是走進潮流的好嘗試\",\"content\":\"夏季正式到來，又是潛水的新一個季度。在準備潛水計劃的時候，有沒有也在檢查儀器是否正常運作，有沒有換新的需要呢？小編最近有被朋友問到買新潛水電腦錶的建議，原因大概是廠商們也藉此時機把新品上架。小編有在試用的其中一款是 Suunto 最新作，腕錶型潛水電腦 D5。它可是在去年首佈亮相之後，就引起潛水愛好者的不少討論，怎麼說，這也算是 Suunto 這傳統大廠要開始迎合新世代使用者而設計的次世代產品。先從外型說起，D5 可說是另一款同門產品 EON Core 的腕錶版，因為它引入了彩色大螢幕和三鍵式操控，而且還有快拆式錶帶，讓潛水員可以自由配搭多達 48 款不同設計的錶帶。前代的 D4i 因為價錢相宜，功能齊全，可謂是潛水新手必備而相當常見，而 D5 則是繼承所有功能之餘，還為了迎合智慧型手機年代而加入了透過藍牙與專屬 app 同步記錄的能力。 翻看潛水記錄大概是潛水員每一天，甚至是每一潛後的例行動作，可以得知剛剛的旅程中做了（或做錯）什麼，進而為下一潛作調整。在 D5 上，可以按下中間的按鈕切換檢視模式，其全彩畫素記憶（MIP）螢幕可以清晰地同時顯示潛水時間、深度、升降速度、禁止飛行時間和水面時間等，螢幕下方更有位置可以顯示其他資訊，像是電量和方向。相對其他舊款腕錶型機種，D5 在顯示資訊上有著相當明顯優勢。 但如果想更進一步，就可以拿出智慧型手機，並在 Suunto 的通用智慧錶專屬 app 來同步數據，完成後就可以馬上分享剛剛的潛水日誌到不同社交平台。這功能大概是潛水器材廠商都要接觸新領域，把過去封閉的測量儀器與聯網裝置接通，做到即時的分享。 然而這部分 Suunto 還需要加把勁的，就是目前手機 app 能做的僅是單方面獲取 D5 的數據，未能藉此調整其他設定。打比方說外潛的時候，不是隨時都能拿出電腦來開啟 DM5 這功能較齊的應用軟體來設定，那就只好拿著手錶在按按按按了。 不過 D5 有一個非常加分的特質，就是用上磁吸式 USB 充電線來充電和與電腦同步。這設計可讓 D5 不需要定期去花錢換電，即使快將沒電也可以隨意找個 USB 充電器來充電。另外，這磁吸頭也相當牢固，在吸附在 D5 的接點後，都不太可能會意外被拉開，確保充電和數據傳輸的穩定性。 直接與小編自己的 D4i 來比較，D5 在外型、操縱性都有大幅改進。另外 Suunto 更表示他們搭載了新一代 Suunto Fused RGBM 2 演算法，稍微放寬了人體排出氮氣的時間限制，讓潛水員可以在安全的時間內，更快可以進行另一次的下潛。 總的來說，雖然 D5 的定價有比 D4i 提高了一點，到接近五千港幣（約兩萬台幣），但因為功能、使用體驗都是有感的提升，所以預算容許的話，原本在考慮舊型號的朋友不妨直接選擇 D5。當然，市面上還有其他同樣有著與智慧型手機連動的潛水電腦錶，功能、取向都會各有不同，有興趣的朋友可以親身去體驗和感受，再作決定。\"},{\"title\":\"由基因編輯技術實現的愛滋病「免疫」嬰兒壽命反倒可能變短\",\"content\":\"去年末時中國科學家賀建奎利用 CRISPR 技術編輯胚胎基因的行為，可以說震驚了整個世界。當時他聲稱自己去掉 CCR5 蛋白功能的做法，能夠幫助嬰兒更好地對抗愛滋病。但現在卻有研究發現，其舉動可能恰恰會縮短實驗對象的壽命。根據一篇由加州大學柏克萊分校研究者在 Nature Medicine 期刊上發表的文章來看，帶有兩個失去功能 CCR5 突變基因拷貝的對象，在 76 歲前死亡的可能性要比其它人群高 21%。據介紹，此次研究是基於英國生物樣本庫（UK Biobank）中超過 40 萬名志願者的 DNA 資訊和死亡記錄。在分析後科學家們推測，CCR5 突變群體在面對西尼羅河病毒或流感時，感染的機率會比一般人更高。類似賀建奎創造的那種情況，實驗對象平均縮短的壽命可能要達到 1.9 年。柏克萊分校研究結果的出爐，也意味著賀建奎創造的基因編輯嬰兒，未來要面臨的各種不確定性可能遠比賀建奎預想的要大。實際上，今年早些時候 Cell 期刊上也登出過 CCR5 可能跟腦損傷恢復有關的研究結果。種種跡象都表明，至少在現階段基因編輯所帶來結果還未被完全弄清楚的前提下，對待實際的操作還是應該要慎之又慎為好。Nature Medicine\"},{\"title\":\"新 Mac Pro 所用的 Radeon Pro Vega II 顯示卡是為 8K 處理等重型操作而來\",\"content\":\"今晨亮相的新款 Mac Pro 除了展示 Apple 的工業設計實力外（不管你是喜歡還是討厭），還第一次讓人看到了 AMD 全新的 Radeon Pro Vega II 顯示卡。這款產品是基於 7nm 的 Radeon VII 而非最新發表的 Navi 架構打造，主要瞄準的對象就是那些會用到工作站級別電腦的人群。其單精度效能可達到約 14 TFLOPS，同時配有 32GB 高頻寬 HBM2 記憶體，能夠應對 8K 影像處理或是驅動雙 6K 顯示器這樣繁重的任務。此外在 Radeon Pro Vega II 上 AMD 還啟用了 Infinity Fabric Link 技術，它能帶來 84GB/s 的 GPU 互聯速度。如果有需要的話，用戶也可以選擇 Radeon Pro Vega II Duo 雙晶片顯卡，在新 Mac Pro 上更是可以一口氣裝上兩組，以達成 56 TFLOPS 和 128GB 記憶體的兇猛規格。值得一提的是，廠方這次還設計了「全新」的 PCIe 插口，能在整合 Thunderbolt 3 的同時提供最高 500W 供電。目前 AMD 還沒有公佈這系列產品的發售資訊（因為牽涉到 Apple，也不知道最終會不會有），如果賣的話，價格應該是不太可能便宜的吧。AMD\"},{\"title\":\"Xbox 和 PlayStation 手把支援也將來到 iOS 13\",\"content\":\"在 WWDC 2019 的諸多發表內容中，其中一項是 tvOS 13 將能與 PS4 或藍牙的 Xbox One 控制器相容。這除了為自家的 Apple Arcade 鋪路之外，如果有其他雲端遊戲服務也想利用的話，市面上就已經有兩款極熱門的手把可以直接選用了。但顯然蘋果的野心不僅止於客廳，事實上，iOS 13 / iPadOS 也將獲一樣的手把支援。這意味著等到 iOS 13 / iPadOS 上線後，你可以直接使用手把在 iPhone 或 iPad 上玩遊戲，增加行動遊戲的操作性。想必這也能讓 Apple Arcade 適宜的用戶群更廣，訂閱也更誘人吧！\"},{\"title\":\"OnePlus 7 Pro 會有軟體更新來應對螢幕「鬼觸」問題\",\"content\":\"OnePlus 的新旗艦 7 Pro 上市後沒多久，就有使用者回報稱自己的螢幕存在「鬼觸」（phantom taps）的問題。具體來說，就是裝置會在用戶並沒有進行觸控時，自己判定收到了觸控輸入。官方在回應網友提問時，有講到「建議在不需要時候關閉 NFC」的臨時處理辦法。而具體的解決方案，則會「在未來幾週內」透過軟體更新來到使用者的手機之上。除此之外，OnePlus 也表示自己已得知部分用戶的裝置存在手指按壓到螢幕邊角時，便會導致觸控不靈的故障。相關問題未來也會透過新韌體修復，但目前還沒有確切的時程安排。The Verge\"},{\"title\":\"iPadOS 其實是有支援滑鼠的\",\"content\":\"雖然在台上並沒有提到，但 iOS 開發者 Steve Troughton-Smith 在 iPadOS 的開發者測式版上線後，果然在裡面發現了對滑鼠的支援。一如早前傳聞所說的，它被歸類為「無障礙功能」，雖然 Troughton-Smith 並沒有細說滑鼠支援的細節，但從他提供的影片可以看到，在「連結裝置」之下，有個藍牙裝置的子選項，似乎意味著藍牙滑鼠也能搭配 iPadOS 使用的。此外，影片中的鼠標是個代表觸控點的大圈圈，但在設定中有個游標的選項，或許可以從這裡改變游標的樣式吧？ 既然蘋果這麼強調 iPad 做為生產力工具，為什麼明明有了滑鼠支援，卻還這麼低調，真是個謎。至少對於覺得用滑鼠能更輕易完成工作的人，現在我們知道選項藏在哪裡了。結合 iPadOS 對於儲存裝置的擴大支援，看來 USB type-C 版的 iPad，這下子可是變實用很多呢。Steve Troughton-Smith (Twitter)\"},{\"title\":\"Google Stadia 遊戲串流服務會在星期四公佈更多詳細內容\",\"content\":\"Google 對於串流遊戲服務的豪賭，目前所知的就只有會有 Stadia 服務本身、同名的第一方工作室和遊戲手把，但其他更重要的內容，像是推出的確實日期、收費、遊戲內容等都未有公佈。總算，Google 確認了要在美國東岸時間的星期四下午 12 點（即我們 6 月 7 日，星期五的凌晨）舉行活動，屆時會有 YouTube 的現場直播。在 YouTube 直播影片頁中，Stadia 在影片描述中寫道「有些消息就是等不到 E3」，那大概他們的想法是提早發表之後，大家就可以在 6 月 11 日開展的 E3 遊戲展期間親手體驗的吧。Stadia 算是市場上首個進入串流遊戲市場的服務，因為微軟和 NVIDIA 雖然早有表態，但一直都只聞樓梯響。Google 預告了 Stadia 能簡單透過 Chrome 瀏覽器開始遊戲，帶來 4K HDR，甚至 60 fps 的高畫質。同時也有著簡單分享遊戲畫面的特性，只要 5 秒就可以分享出去。在早前我們 Engadget 與 Google Stadia 頭頭 Phil Harrison 的訪談中透露，他們是因為相關基建的發展已經成熟，所以認為這是適當的推出時機。Google Stadia (Twitter)\"},{\"title\":\"吃美食不怕踩雷！Google地圖推出熱門料理功能\",\"content\":\"隨著網路科技的快速發展，Google Maps已經成為許多人出門在外必備的旅遊工具之一，但其實除了基本的查看地圖及路線導航等功能之外，Google Maps近日更推出了新功能「熱門料理」，讓愛吃美食的饕客們走進一家從未造訪過的餐廳，不再因點餐猶豫不決！繼日前Google在Google搜尋、Google Maps與語音助理等三項功能上，加入了線上訂購外送服務的功能後，再度針對飲食領域出招，推出了「熱門料理Popular Dishes」功能，讓使用者來到一家未造訪過的餐廳用餐時，只要打開 Google 地圖查詢餐廳，就會看到新加入的「熱門料理」跑馬燈，點進某一個餐點，則可以看到更多餐點照片及評論內容，再也不怕點餐踩地雷。▼用戶可以在Google Maps的總覽頁面中，找到熱門餐點的欄位。（圖／翻攝自Google）而這項新功能利用了機器學習演算法，把餐廳裡的餐點照片、餐點評論整理出來，讓使用者能在Google地圖上輕鬆找到該餐廳最常被討論的餐點資訊，即使在其他不同語言國家，Google地圖也會為使用者翻譯餐點名稱與評論內容。▼只要開啟Google地圖並任選一家餐廳，就能看到熱門菜色。（圖／連先生提供）事實上，Google並非首個嘗試蒐錄菜色評價的平台。去年美國最大評論網站Yelp也曾推出熱門餐點功能，且和Google同樣藉由機器學習技術，配對網站上的菜名與評論，不過Google更提供用戶針對每道菜色上傳照片、做評論的自由功能。而目前熱門餐點功能已向全球Android用戶推出，iOS版本則預計會在未來數個月內，提供用戶使用。（封面圖／翻攝自Google）更多東森財經新聞報導Google語音助理打趴Siri姊？谷歌4大亮點搶先看號稱夜拍比iPhone強！Google再推平價機1.5萬有找\"},{\"title\":\"新 Mac Pro、Pro XDR 6K 螢幕動眼看\",\"content\":\"昨晚的 WWDC 2019 上，Apple 終於端出了他們重新設計的 Mac Pro 主機以及久違的自家螢幕 Pro XDR 6K 螢幕。雖然從台上演示裡就得知這新 Mac Pro 是有著強大的擴充性，而且每個細節裡都有其設計感，不過官方渲染圖又怎能比得上實機動眼看。在 WWDC 2019 主舞台活動結束後，參加者就可以到展示區親看一睹新 Mac Pro、Pro XDR 6K 螢幕的風彩。可惜的是眼看手勿動，要互動的話則可以拿起 iPad，透過 AR 的方式來觀看模擬解體後的內裝。據現場的介紹，把機箱打開的同時，Mac Pro 可是會自動關機，所以我們大概無緣看到那三風扇系統的運作吧。幸好，這 AR 體驗並不是現場獨有，大家有興趣的都可以利用 iPhone 和 iPad 到 Mac Pro 的產品頁面瀏覽即可（買不起、幻想一下也開心啊）。在旁邊的 Pro XDR 6K 螢幕同樣觸目，因為它採用了與新 Mac Pro 同樣的極簡工業風，本時那片能全域顯示 1,000 尼特的面板有著極仔細、艷麗的成色。當然我們短暫的動眼看時間並不足以對其下個結論，但肯定的是這部顯示器的規格已經超越了 VESA 最高階 DisplayHDR 1000 的要求。\"},{\"title\":\"據傳微軟已在內部展示過雙螢幕 Surface 新品\",\"content\":\"關於微軟在打造雙螢幕 Surface 裝置的流言已經有不少，The Verge 現在更是從知情人士處獲悉，相關產品已被拿來向部分員工進行了內部展示（不是上面這款，這台是 Intel 的）。據稱當時去觀摩的人「排起了長隊」，而原型機本身則是被歸於 Centaurus 而非 Androimeda 計畫，因此可以看作是 Courier 的精神後繼者吧。另外在軟體部分，據說裝置會運行輕量版的 Windows（代號 Windows Lite 或 Core OS）。官方對產品整體的期待似乎是希望讓其成為雙螢幕平板 / 筆電混合機的標竿，而 Intel 在這款機器的開發上也跟微軟進行了「緊密合作」。另外還有消息稱，Centaurus 在未來半年的時間內就會正式發表了。The Verge\"},{\"title\":\"關貿 5月攔截13萬次網攻\",\"content\":\"工商時報【朱漢崙╱台北報導】根據關貿網路內部的最新統計，去年報稅時攔截的網路攻擊共2,312次，但今年竟爆增為13萬次，其中，有26件為更高階且已鎖定特定報稅案作目標的「密碼暴力攻擊」，對此關貿由於已掌握個別具體證據，已將這26案通報至調查局處理。關貿分析，主要應是今年用web版進行網路申報的人數大增，相應而生的駭客網路攻擊量也增加，而關貿網路的防駭技術向來領先業界，包括前年亦發動成立國內資安聯防體系，今年則成功攔下了13萬次的網路報稅駭客攻擊。關貿董事長許建隆指出，為嚴防駭客對5月份綜所稅網路申報的攻擊，關貿中心本次特別成立「戰情中心」，並且拉高規格，不僅把營運部及資訊服務部人員同時集中，將即時掌握民眾報稅情況也納為偵測駭客動態的一環，同時以16個監控畫面同步連線五區國稅局的報稅情況。其中在近一個月的報稅期間，不包括派駐五區國稅局進駐的人員，關貿自己就在戰情中心出動近50位現場監控人員，增加至少為過去1倍的人力進場，並出動了上百位的客服人員掌握民眾在網路申報時的各種疑難雜症。對「網路攻擊」及「密碼暴力攻擊」兩種駭客攻擊層次，關貿網路營運服務部副技術長彭威陽說明，網路攻擊的定義，是指偵測到疑似駭客攻擊的現象，包括報稅戶的報稅作業不順暢，也有遭駭客攻擊的可能性，而程度更嚴重的所謂「密碼暴力攻擊」，則指駭客已非常明確的鎖定個別申報案、掌握密碼來攻擊，也因為事證更明確，因此直接通報至調查局處理，今年這類攻擊26件，則少於去年的40件。\"},{\"title\":\"Apple 重新設計的 CarPlay 可以並排放多個 app\",\"content\":\"在本屆 WWDC 上 Apple 也公佈了 CarPlay 的更新內容，新版本會在車輛的螢幕上顯示更多有關資訊。用戶未來將能看到帶指向的地圖、音樂控制，以及基於時間和為止靠 Siri 驅動的智慧 app、指令建議等等。除此之外，CarPlay 的行事曆應用中還新增了顯示整日行程安排的選項，音樂 app 中唱片的視覺設計也變得更為突出了。值得一提的是，Siri 馬上也會加入包括 Pandora、Waze 在內的第三方服務支援喔。\"},{\"title\":\"Project Catalyst 將幫助 iOS 開發者將 App 帶到 macOS 上\",\"content\":\"一如預料的，蘋果在 WWDC 上正式公開了方便開發者將 iOS App 轉移到 OSX 上的「Project Cataylst」。其前身為去年的 Marzipan，並且將相容於 Xcode 開發者工具。這意味著開發 iOS App 的團隊也能輕鬆地將介面轉換成 macOS 的樣子，同時為行動與桌機開發 App。第一批嘗試這套新工具的就包括了 Twitter，這也意味著在結束官方 App 一年多後，Twitter 又將重返 Mac 平台。Twitter 表示利用 Project Catalyst，他們能在「幾天內就在 Mac 上執行 Twitter」，而且同一個團隊現在可以同步更新 iPhone、iPad 和 Mac 的 Twitter App，並不會多花什麼人力成本。雖然關於新的 Mac 版 Twitter App 的相關資訊還不多，但如果最後發現和手機版長的一模一樣的話，也不用太驚訝囉。Project Catalyst 將在 WWDC 上與 MacOS Catalina 一同提供給開發者做試用。\"},{\"title\":\"微軟把《Minecraft Earth》的 AR 遊戲畫面首秀留給了 WWDC\",\"content\":\"在微軟最初公佈《Minecraft Earth》的時候，他們並沒有讓人看到真正的遊戲畫面是什麼樣子的。如今來到 WWDC，這款作品的實際運行效果才第一次正式揭曉。Mojang 的員工用 iPhone 和 iPad 在 Apple 的舞台上對一座虛擬城堡進行了改造，之後他們走進了放大到等同真實尺寸的版本，並且還在裡面挖起了礦。根據現場 demo 的情況來看，《Minecraft Earth》遊戲中的兩人協作頗為流暢。而且在 iOS 平台上還會有一項特殊的玩法，這個版本的遊戲還能把現實事物後面的 AR 元素也都給顯示出來。不得不說，WWDC 上的展示效果要比之前的短片好得多，之後的實際遊戲變得讓人十分期待呢。\"},{\"title\":\"Apple 新版 HomeKit 會提升路由器和保全相機的安全性\",\"content\":\"如今一直在強調隱私安全的 Apple，此番也在 HomeKit 中進行了相應的加強。他們今天在 WWDC 上公佈的 HomeKit Secure Video 和 HomeKit for Routers，看名字就知道是為了保全相機和路由器而來。其中前者已經拉攏到羅技和 Arlo 來推出相應的產品，它們會在將錄影傳上網前先進行分析，之後檔案會被加密儲存在 iCloud 之中。按照 Apple 的說法，他們是看不到用戶傳到伺服器裡的內容的，而且 HomeKit Secure Video 每 10 天就是一個錄製輪迴，也不會在儲存方面造成太大的壓力。未來這項服務的費用會被包含進 iCloud 訂閱一同計算，這對 Google 旗下的 Nest 可能會構成不小打擊。而在路由器的部分，HomeKit for Routers會在網路和連入網路的裝置間隔開一道虛擬圍牆，之後來自 Linksys 和 Eero 的裝置都會加入這項特性。\"},{\"title\":\"macOS Catalina 是 Apple 最新的桌面 OS\",\"content\":\"在本屆 WWDC 上 Apple 不意外也公佈了新一版的桌面作業系統 macOS（10.15），這次的代號是 Catalina，仍然是美國加州的一處地名。如之前傳聞的那樣，在這版系統中 iTunes 拆分出了 Music、TV 和 Podcast 三大獨立應用（Windows 上會不會這樣變目前還不得而知）。其中 Podcast 會基於機器學習讓用戶可以更容易地找到自己想聽的內容，操作方面也不用再忍受 iTunes 相對難用的設計。而 TV app 則會為 Mac 帶來 4K HDR 播放支援，同時還有 Dolby Vision 及 Dolby Atmos 效果。考慮到 TV 和 Music 服務的訂閱量是 Apple 當下追求的目標，在 Mac 上把它們的 app 單拆出來也算是情理之中。值得一提的是，未來用戶在將 iPhone、iPad 或是 iPod Touch 插入電腦同步時，iTunes 不會再自動開啟，你只要去 Finder 裡面就可以管理自己的檔案了。這些變化無一不在淡化 iTunes 本身的存在感，這款爭議頗多的軟體推出至今已過 18 年，相信許多人應該都覺得是時候迎接些大的改變了吧？除此之外，macOS Catalina 中還增加了將 iPad 用作第二螢幕的「Sidecar」功能。讓用戶可透過有線或無線的方式，將平板變成 Mac 的顯示擴展，同時還讓你能把它當作觸控媒介來使用。另外新引入的 Voice Control 會給使用者提供一套單單靠說話便能控制電腦（或者 iOS 13 裝置）的解決方案，你只要動動嘴就能啟動 app 或是選擇 emoji，同時還能對應各種手勢呢（所有語音處理都是在裝置上完成喔，Apple 仍然很強調隱私）。\"},{\"title\":\"Apple Pro Display XDR 是要價 US$4,999 的蘋果新螢幕\",\"content\":\"搭配全新設計的 Mac Pro，蘋果果然又再次推出了自家的新螢幕，取名「Apple Pro Display XDR」。這台 32 吋螢幕完全是為了專業工作者而設，規格也是目前市面上的頂級，除了 6K 解析度（6,016 x 3,384）、P3 色域、與 10-bit 色彩之外，還有高達 1,600 nit 的亮度，讓它可以支援 HDR。為了能更好地控光，它採用了大量的 LED 背光燈泡（應該就是 Mini LED 技術），這會產生同等大量的熱，因此 Apple Pro Display XDR 採用了類似 Mac Pro 的「洞洞」金屬背板，讓整個背板都能做為 Pro Display XDR 的散熱片使用，確保其能不限時地保持 1,000 nit 的亮度。Pro Display XDR 當然是採用 Thunderbolt 3 來連結電腦，而且你還可以串接多達六台這個螢幕到一台 Mac Pro 上。此外，蘋果還為 Pro Display XDR 帶來了一塊直接在玻璃上刻入奈米級微洞，讓螢幕可以在抗反光的同時，達還不影響色彩與亮度的「nano-texture」霧面螢幕，做為選購的選項。當然，只要你把「專業」、「蘋果」兩個詞放在一塊，這價格嚇死人就是可以預見的事。蘋果強調專業級的顯示可以要價達 43,000 美元，做為那個等級的替代品它算是便宜的，但 Pro Display XDR 的 US$4,999 依然也不是一般人能想像的程度。更甚者，如果你想要前述的 nano-texture 霧面的話，要直接加 1,000 美元，來到 US$5,999，而且這兩個價錢都只有螢幕本身而已，不包含支撐架。標準的 VESA 轉接器要 US$199，而專為 Pro Display XDR 而設的支撐架更是要 US$999 之譜。也就是說台上看到的這模樣，也要個 7,000 美元呢...\"}]}\n"
     ]
    }
   ],
   "source": [
    "import requests\n",
    "from bs4 import BeautifulSoup\n",
    "\n",
    "headers = {\n",
    "    'user-agent': 'Mozilla/5.0 (Windows NT 10.0; Win64; x64) AppleWebKit/537.36 (KHTML, like Gecko) Chrome/68.0.3440.106 Safari/537.36'\n",
    "}\n",
    "req = requests.request('GET', 'https://tw.news.yahoo.com/tech-development',headers=headers)\n",
    "soup = BeautifulSoup(req.text)\n",
    "titleDom = soup.find_all('h3', class_='Mb(5px)')\n",
    "resStr = '{\"data\":[';\n",
    "for title in titleDom:\n",
    "    resStr += '{\"title\":\"' + title.text + '\",'\n",
    "    contentReq = requests.request('GET', 'https://tw.news.yahoo.com/' + title.find('a')['href'],headers=headers)\n",
    "    contentSoup = BeautifulSoup(contentReq.text)\n",
    "    contentDom = contentSoup.find_all('p', class_='canvas-atom canvas-text Mb(1.0em) Mb(0)--sm Mt(0.8em)--sm')\n",
    "    resStr += '\"content\":\"'\n",
    "    for content in contentDom:\n",
    "        resStr += content.text\n",
    "    resStr += '\"},'\n",
    "resStr = resStr[:-1] + ']}'\n",
    "\n",
    "print(resStr)\n"
   ]
  },
  {
   "cell_type": "code",
   "execution_count": null,
   "metadata": {},
   "outputs": [],
   "source": []
  },
  {
   "cell_type": "code",
   "execution_count": null,
   "metadata": {},
   "outputs": [],
   "source": []
  }
 ],
 "metadata": {
  "kernelspec": {
   "display_name": "Python 3",
   "language": "python",
   "name": "python3"
  },
  "language_info": {
   "codemirror_mode": {
    "name": "ipython",
    "version": 3
   },
   "file_extension": ".py",
   "mimetype": "text/x-python",
   "name": "python",
   "nbconvert_exporter": "python",
   "pygments_lexer": "ipython3",
   "version": "3.6.5"
  }
 },
 "nbformat": 4,
 "nbformat_minor": 2
}
